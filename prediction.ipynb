{
  "nbformat": 4,
  "nbformat_minor": 0,
  "metadata": {
    "orig_nbformat": 4,
    "colab": {
      "name": "prediction.ipynb",
      "provenance": [],
      "include_colab_link": true
    },
    "language_info": {
      "name": "python"
    },
    "kernelspec": {
      "name": "python3",
      "display_name": "Python 3"
    }
  },
  "cells": [
    {
      "cell_type": "markdown",
      "metadata": {
        "id": "view-in-github",
        "colab_type": "text"
      },
      "source": [
        "<a href=\"https://colab.research.google.com/github/ShakedZrihen/worldwide-song-hit-formula/blob/predictions/prediction.ipynb\" target=\"_parent\"><img src=\"https://colab.research.google.com/assets/colab-badge.svg\" alt=\"Open In Colab\"/></a>"
      ]
    },
    {
      "cell_type": "markdown",
      "metadata": {
        "id": "i221Ekv1kNCH"
      },
      "source": [
        "# Predict if song can be a hit"
      ]
    },
    {
      "cell_type": "markdown",
      "metadata": {
        "id": "o1bAOG5uetlW"
      },
      "source": [
        "## Imports and mount dataset"
      ]
    },
    {
      "cell_type": "code",
      "metadata": {
        "id": "NXuXsoyWl9LY"
      },
      "source": [
        "## General\n",
        "from google.colab import drive\n",
        "import pandas as pd\n",
        "import numpy as np\n",
        "\n",
        "import matplotlib.pyplot as plt\n",
        "import seaborn as sns\n",
        "\n",
        "## ML Algorithms\n",
        "from sklearn.model_selection import train_test_split\n",
        "from sklearn.preprocessing import StandardScaler\n",
        "\n",
        "from sklearn.linear_model import LogisticRegression\n",
        "from sklearn.neighbors import KNeighborsClassifier\n",
        "from sklearn.tree import DecisionTreeClassifier\n",
        "from sklearn.svm import LinearSVC, SVC\n",
        "from sklearn.neural_network import MLPClassifier\n",
        "from sklearn.ensemble import RandomForestClassifier, GradientBoostingClassifier"
      ],
      "execution_count": 88,
      "outputs": []
    },
    {
      "cell_type": "code",
      "metadata": {
        "colab": {
          "base_uri": "https://localhost:8080/"
        },
        "id": "7MVIjCZamHvL",
        "outputId": "7da92e69-0eee-4751-e0a3-1e1c4a64d7ed"
      },
      "source": [
        "drive.mount(\"/content/gdrive\", force_remount=True)"
      ],
      "execution_count": 6,
      "outputs": [
        {
          "output_type": "stream",
          "text": [
            "Mounted at /content/gdrive\n"
          ],
          "name": "stdout"
        }
      ]
    },
    {
      "cell_type": "markdown",
      "metadata": {
        "id": "JNtMEajqmjdy"
      },
      "source": [
        "## Load data set"
      ]
    },
    {
      "cell_type": "code",
      "metadata": {
        "id": "p6ohu4M4mmRc"
      },
      "source": [
        "charts_data_df = pd.read_csv('/content/gdrive/MyDrive/OpenUniversity/DS/finalDataset/chartsData.csv')"
      ],
      "execution_count": 7,
      "outputs": []
    },
    {
      "cell_type": "code",
      "metadata": {
        "colab": {
          "base_uri": "https://localhost:8080/",
          "height": 359
        },
        "id": "j_lY3kGcm4KU",
        "outputId": "98bad412-deb4-4a6b-a3b2-f84cbd7c0ec9"
      },
      "source": [
        "charts_data_df.head(10)"
      ],
      "execution_count": 8,
      "outputs": [
        {
          "output_type": "execute_result",
          "data": {
            "text/html": [
              "<div>\n",
              "<style scoped>\n",
              "    .dataframe tbody tr th:only-of-type {\n",
              "        vertical-align: middle;\n",
              "    }\n",
              "\n",
              "    .dataframe tbody tr th {\n",
              "        vertical-align: top;\n",
              "    }\n",
              "\n",
              "    .dataframe thead th {\n",
              "        text-align: right;\n",
              "    }\n",
              "</style>\n",
              "<table border=\"1\" class=\"dataframe\">\n",
              "  <thead>\n",
              "    <tr style=\"text-align: right;\">\n",
              "      <th></th>\n",
              "      <th>Unnamed: 0</th>\n",
              "      <th>Artist</th>\n",
              "      <th>Position</th>\n",
              "      <th>Streams</th>\n",
              "      <th>Track Name</th>\n",
              "      <th>URL</th>\n",
              "      <th>country</th>\n",
              "      <th>dates</th>\n",
              "    </tr>\n",
              "  </thead>\n",
              "  <tbody>\n",
              "    <tr>\n",
              "      <th>0</th>\n",
              "      <td>0</td>\n",
              "      <td>Red Velvet</td>\n",
              "      <td>1</td>\n",
              "      <td>205528</td>\n",
              "      <td>Psycho</td>\n",
              "      <td>https://open.spotify.com/track/3CYH422oy1cZNoo...</td>\n",
              "      <td>Viet Nam</td>\n",
              "      <td>2019-12-27--2020-01-03</td>\n",
              "    </tr>\n",
              "    <tr>\n",
              "      <th>1</th>\n",
              "      <td>1</td>\n",
              "      <td>Red Velvet</td>\n",
              "      <td>106</td>\n",
              "      <td>314994</td>\n",
              "      <td>Psycho</td>\n",
              "      <td>https://open.spotify.com/track/3CYH422oy1cZNoo...</td>\n",
              "      <td>Indonesia</td>\n",
              "      <td>2020-11-13--2020-11-20</td>\n",
              "    </tr>\n",
              "    <tr>\n",
              "      <th>2</th>\n",
              "      <td>2</td>\n",
              "      <td>Red Velvet</td>\n",
              "      <td>107</td>\n",
              "      <td>79162</td>\n",
              "      <td>Psycho</td>\n",
              "      <td>https://open.spotify.com/track/3CYH422oy1cZNoo...</td>\n",
              "      <td>Thailand</td>\n",
              "      <td>2020-11-20--2020-11-27</td>\n",
              "    </tr>\n",
              "    <tr>\n",
              "      <th>3</th>\n",
              "      <td>3</td>\n",
              "      <td>Red Velvet</td>\n",
              "      <td>82</td>\n",
              "      <td>64279</td>\n",
              "      <td>Psycho</td>\n",
              "      <td>https://open.spotify.com/track/3CYH422oy1cZNoo...</td>\n",
              "      <td>Singapore</td>\n",
              "      <td>2020-07-31--2020-08-07</td>\n",
              "    </tr>\n",
              "    <tr>\n",
              "      <th>4</th>\n",
              "      <td>4</td>\n",
              "      <td>Red Velvet</td>\n",
              "      <td>91</td>\n",
              "      <td>367569</td>\n",
              "      <td>Psycho</td>\n",
              "      <td>https://open.spotify.com/track/3CYH422oy1cZNoo...</td>\n",
              "      <td>Indonesia</td>\n",
              "      <td>2020-10-09--2020-10-16</td>\n",
              "    </tr>\n",
              "    <tr>\n",
              "      <th>5</th>\n",
              "      <td>5</td>\n",
              "      <td>Red Velvet</td>\n",
              "      <td>138</td>\n",
              "      <td>22725</td>\n",
              "      <td>Psycho</td>\n",
              "      <td>https://open.spotify.com/track/3CYH422oy1cZNoo...</td>\n",
              "      <td>Hong Kong</td>\n",
              "      <td>2020-07-10--2020-07-17</td>\n",
              "    </tr>\n",
              "    <tr>\n",
              "      <th>6</th>\n",
              "      <td>6</td>\n",
              "      <td>Red Velvet</td>\n",
              "      <td>131</td>\n",
              "      <td>102957</td>\n",
              "      <td>Psycho</td>\n",
              "      <td>https://open.spotify.com/track/3CYH422oy1cZNoo...</td>\n",
              "      <td>Japan</td>\n",
              "      <td>2019-12-27--2020-01-03</td>\n",
              "    </tr>\n",
              "    <tr>\n",
              "      <th>7</th>\n",
              "      <td>7</td>\n",
              "      <td>Red Velvet</td>\n",
              "      <td>125</td>\n",
              "      <td>6432</td>\n",
              "      <td>Psycho</td>\n",
              "      <td>https://open.spotify.com/track/3CYH422oy1cZNoo...</td>\n",
              "      <td>United Arab Emirates</td>\n",
              "      <td>2020-01-03--2020-01-10</td>\n",
              "    </tr>\n",
              "    <tr>\n",
              "      <th>8</th>\n",
              "      <td>8</td>\n",
              "      <td>Red Velvet</td>\n",
              "      <td>28</td>\n",
              "      <td>141716</td>\n",
              "      <td>Psycho</td>\n",
              "      <td>https://open.spotify.com/track/3CYH422oy1cZNoo...</td>\n",
              "      <td>Malaysia</td>\n",
              "      <td>2020-03-20--2020-03-27</td>\n",
              "    </tr>\n",
              "    <tr>\n",
              "      <th>9</th>\n",
              "      <td>9</td>\n",
              "      <td>Red Velvet</td>\n",
              "      <td>5</td>\n",
              "      <td>98150</td>\n",
              "      <td>Psycho</td>\n",
              "      <td>https://open.spotify.com/track/3CYH422oy1cZNoo...</td>\n",
              "      <td>Viet Nam</td>\n",
              "      <td>2020-01-31--2020-02-07</td>\n",
              "    </tr>\n",
              "  </tbody>\n",
              "</table>\n",
              "</div>"
            ],
            "text/plain": [
              "   Unnamed: 0      Artist  ...               country                   dates\n",
              "0           0  Red Velvet  ...              Viet Nam  2019-12-27--2020-01-03\n",
              "1           1  Red Velvet  ...             Indonesia  2020-11-13--2020-11-20\n",
              "2           2  Red Velvet  ...              Thailand  2020-11-20--2020-11-27\n",
              "3           3  Red Velvet  ...             Singapore  2020-07-31--2020-08-07\n",
              "4           4  Red Velvet  ...             Indonesia  2020-10-09--2020-10-16\n",
              "5           5  Red Velvet  ...             Hong Kong  2020-07-10--2020-07-17\n",
              "6           6  Red Velvet  ...                 Japan  2019-12-27--2020-01-03\n",
              "7           7  Red Velvet  ...  United Arab Emirates  2020-01-03--2020-01-10\n",
              "8           8  Red Velvet  ...              Malaysia  2020-03-20--2020-03-27\n",
              "9           9  Red Velvet  ...              Viet Nam  2020-01-31--2020-02-07\n",
              "\n",
              "[10 rows x 8 columns]"
            ]
          },
          "metadata": {
            "tags": []
          },
          "execution_count": 8
        }
      ]
    },
    {
      "cell_type": "markdown",
      "metadata": {
        "id": "UjNclbF5nMJX"
      },
      "source": [
        "## Get all top 10 songs"
      ]
    },
    {
      "cell_type": "code",
      "metadata": {
        "colab": {
          "base_uri": "https://localhost:8080/"
        },
        "id": "qhr699C7nQyA",
        "outputId": "c8ab16e2-c212-4233-97a6-689628b5e781"
      },
      "source": [
        "top_10_songs_df = charts_data_df[charts_data_df.Position <= 10]\n",
        "print(f'Top 10 songs (with duplications): {len(top_10_songs_df)}')\n",
        "\n",
        "# Top 10 songs (without duplications)\n",
        "top_10_songs_uniqu_df = top_10_songs_df['URL'].unique()\n",
        "print(f'Top 10 songs (without duplications): {len(top_10_songs_uniqu_df)}')"
      ],
      "execution_count": 9,
      "outputs": [
        {
          "output_type": "stream",
          "text": [
            "Top 10 songs (with duplications): 107460\n",
            "Top 10 songs (without duplications): 6749\n"
          ],
          "name": "stdout"
        }
      ]
    },
    {
      "cell_type": "code",
      "metadata": {
        "colab": {
          "base_uri": "https://localhost:8080/"
        },
        "id": "p4o8I_W2qJkI",
        "outputId": "995e6a93-613a-4463-ff5d-1d9e7ac4d4cf"
      },
      "source": [
        "# Get most popular songs in top 10 charts\n",
        "top_10_songs_dup_df = top_10_songs_df.pivot_table(columns=['Track Name', 'Artist'], aggfunc='size').sort_values(ascending=False)\n",
        "top_10_songs_dup_df.head(10)"
      ],
      "execution_count": 10,
      "outputs": [
        {
          "output_type": "execute_result",
          "data": {
            "text/plain": [
              "Track Name                                      Artist       \n",
              "Blinding Lights                                 The Weeknd       1558\n",
              "Dance Monkey                                    Tones And I      1409\n",
              "Señorita                                        Shawn Mendes     1007\n",
              "bad guy                                         Billie Eilish     833\n",
              "Roses - Imanbek Remix                           SAINt JHN         767\n",
              "Don't Start Now                                 Dua Lipa          635\n",
              "Without Me                                      Halsey            620\n",
              "Mood (feat. iann dior)                          24kGoldn          608\n",
              "ROCKSTAR (feat. Roddy Ricch)                    DaBaby            602\n",
              "Taki Taki (with Selena Gomez, Ozuna & Cardi B)  DJ Snake          599\n",
              "dtype: int64"
            ]
          },
          "metadata": {
            "tags": []
          },
          "execution_count": 10
        }
      ]
    },
    {
      "cell_type": "code",
      "metadata": {
        "colab": {
          "base_uri": "https://localhost:8080/"
        },
        "id": "tPz1rRyNqULA",
        "outputId": "a6866000-ab46-41c7-a25c-fc7241322066"
      },
      "source": [
        "# Get most popular artist\n",
        "top_10_songs_dup_df = top_10_songs_df.pivot_table(columns=['Artist'], aggfunc='size').sort_values(ascending=False)\n",
        "top_10_songs_dup_df.head(10)"
      ],
      "execution_count": 11,
      "outputs": [
        {
          "output_type": "execute_result",
          "data": {
            "text/plain": [
              "Artist\n",
              "Bad Bunny        3604\n",
              "Post Malone      2591\n",
              "Ariana Grande    2589\n",
              "The Weeknd       2217\n",
              "Billie Eilish    1941\n",
              "Drake            1767\n",
              "J Balvin         1484\n",
              "Anuel AA         1432\n",
              "Tones And I      1412\n",
              "Sech             1327\n",
              "dtype: int64"
            ]
          },
          "metadata": {
            "tags": []
          },
          "execution_count": 11
        }
      ]
    },
    {
      "cell_type": "markdown",
      "metadata": {
        "id": "MLkYDGRJqyTq"
      },
      "source": [
        "## Prepare our dataset for build our models"
      ]
    },
    {
      "cell_type": "markdown",
      "metadata": {
        "id": "IlkuVjQKfwos"
      },
      "source": [
        "### Descibe our models"
      ]
    },
    {
      "cell_type": "code",
      "metadata": {
        "id": "37KzdGLI6HTi"
      },
      "source": [
        "models = {\n",
        "    \"Logistic Regression\": LogisticRegression(),\n",
        "    \"K-Nearest Neighbors\": KNeighborsClassifier(),\n",
        "    \"Decision Tree\": DecisionTreeClassifier(),\n",
        "    \"Support Vector Machine (RBF Kernel)\": SVC(),\n",
        "    \"Random Forest\": RandomForestClassifier(),\n",
        "    \"Gradient Boosting\": GradientBoostingClassifier()\n",
        "}\n"
      ],
      "execution_count": 91,
      "outputs": []
    },
    {
      "cell_type": "markdown",
      "metadata": {
        "id": "8kUdUEfsgCy4"
      },
      "source": [
        "### Final data tunning"
      ]
    },
    {
      "cell_type": "code",
      "metadata": {
        "id": "-K1I72pJq1Wa"
      },
      "source": [
        "# Add target column\n",
        "set_unique = set(top_10_songs_uniqu_df)\n",
        "charts_data_df['target'] = charts_data_df.apply(lambda row: 1 if row.URL in set_unique else 0, axis=1)\n"
      ],
      "execution_count": 96,
      "outputs": []
    },
    {
      "cell_type": "code",
      "metadata": {
        "colab": {
          "base_uri": "https://localhost:8080/",
          "height": 359
        },
        "id": "3NmIJ103wzio",
        "outputId": "95193fe0-e1d7-40ee-9cec-f2486e65bc58"
      },
      "source": [
        "charts_data_df['id'] = charts_data_df.apply(lambda row: row.URL.rsplit('/', 1)[-1], axis=1) \n",
        "charts_data_df.sample(10)"
      ],
      "execution_count": 97,
      "outputs": [
        {
          "output_type": "execute_result",
          "data": {
            "text/html": [
              "<div>\n",
              "<style scoped>\n",
              "    .dataframe tbody tr th:only-of-type {\n",
              "        vertical-align: middle;\n",
              "    }\n",
              "\n",
              "    .dataframe tbody tr th {\n",
              "        vertical-align: top;\n",
              "    }\n",
              "\n",
              "    .dataframe thead th {\n",
              "        text-align: right;\n",
              "    }\n",
              "</style>\n",
              "<table border=\"1\" class=\"dataframe\">\n",
              "  <thead>\n",
              "    <tr style=\"text-align: right;\">\n",
              "      <th></th>\n",
              "      <th>Unnamed: 0</th>\n",
              "      <th>Artist</th>\n",
              "      <th>Position</th>\n",
              "      <th>Streams</th>\n",
              "      <th>Track Name</th>\n",
              "      <th>URL</th>\n",
              "      <th>country</th>\n",
              "      <th>dates</th>\n",
              "      <th>target</th>\n",
              "      <th>id</th>\n",
              "    </tr>\n",
              "  </thead>\n",
              "  <tbody>\n",
              "    <tr>\n",
              "      <th>1670375</th>\n",
              "      <td>1670375</td>\n",
              "      <td>Abraham Mateo</td>\n",
              "      <td>183</td>\n",
              "      <td>162968</td>\n",
              "      <td>Me Vuelvo Loco</td>\n",
              "      <td>https://open.spotify.com/track/0KmeVVL1SHlPIiH...</td>\n",
              "      <td>Argentina</td>\n",
              "      <td>2019-08-16--2019-08-23</td>\n",
              "      <td>0</td>\n",
              "      <td>0KmeVVL1SHlPIiHWtOD34X</td>\n",
              "    </tr>\n",
              "    <tr>\n",
              "      <th>1830643</th>\n",
              "      <td>1830643</td>\n",
              "      <td>Flow G</td>\n",
              "      <td>29</td>\n",
              "      <td>623514</td>\n",
              "      <td>Araw-Araw Love</td>\n",
              "      <td>https://open.spotify.com/track/1x7DysraeqSgVgj...</td>\n",
              "      <td>Philippines</td>\n",
              "      <td>2020-07-03--2020-07-10</td>\n",
              "      <td>0</td>\n",
              "      <td>1x7DysraeqSgVgj95hHc3U</td>\n",
              "    </tr>\n",
              "    <tr>\n",
              "      <th>1334891</th>\n",
              "      <td>1334891</td>\n",
              "      <td>Angèle</td>\n",
              "      <td>133</td>\n",
              "      <td>45614</td>\n",
              "      <td>Jalousie</td>\n",
              "      <td>https://open.spotify.com/track/3U5x1rplpJNKR3X...</td>\n",
              "      <td>Belgium</td>\n",
              "      <td>2019-05-24--2019-05-31</td>\n",
              "      <td>0</td>\n",
              "      <td>3U5x1rplpJNKR3Xg88EfLi</td>\n",
              "    </tr>\n",
              "    <tr>\n",
              "      <th>798111</th>\n",
              "      <td>798111</td>\n",
              "      <td>Ozuna</td>\n",
              "      <td>55</td>\n",
              "      <td>51983</td>\n",
              "      <td>Caramelo - Remix</td>\n",
              "      <td>https://open.spotify.com/track/67jvGGbJmOmVonl...</td>\n",
              "      <td>Costa Rica</td>\n",
              "      <td>2020-12-11--2020-12-18</td>\n",
              "      <td>0</td>\n",
              "      <td>67jvGGbJmOmVonlyX3mNkV</td>\n",
              "    </tr>\n",
              "    <tr>\n",
              "      <th>1731106</th>\n",
              "      <td>1731106</td>\n",
              "      <td>DJ Snake</td>\n",
              "      <td>163</td>\n",
              "      <td>5416</td>\n",
              "      <td>Let Me Love You</td>\n",
              "      <td>https://open.spotify.com/track/4pdPtRcBmOSQDlJ...</td>\n",
              "      <td>Honduras</td>\n",
              "      <td>2018-04-06--2018-04-13</td>\n",
              "      <td>0</td>\n",
              "      <td>4pdPtRcBmOSQDlJ3Fk945m</td>\n",
              "    </tr>\n",
              "    <tr>\n",
              "      <th>785938</th>\n",
              "      <td>785938</td>\n",
              "      <td>Rauw Alejandro</td>\n",
              "      <td>5</td>\n",
              "      <td>159366</td>\n",
              "      <td>Tattoo - Remix with Camilo</td>\n",
              "      <td>https://open.spotify.com/track/4ZRrLHqzhGRXYj2...</td>\n",
              "      <td>Costa Rica</td>\n",
              "      <td>2020-09-11--2020-09-18</td>\n",
              "      <td>1</td>\n",
              "      <td>4ZRrLHqzhGRXYj2qcB4s5S</td>\n",
              "    </tr>\n",
              "    <tr>\n",
              "      <th>530332</th>\n",
              "      <td>530332</td>\n",
              "      <td>Dua Lipa</td>\n",
              "      <td>38</td>\n",
              "      <td>526445</td>\n",
              "      <td>IDGAF</td>\n",
              "      <td>https://open.spotify.com/track/76cy1WJvNGJTj78...</td>\n",
              "      <td>Australia</td>\n",
              "      <td>2018-05-11--2018-05-18</td>\n",
              "      <td>1</td>\n",
              "      <td>76cy1WJvNGJTj78UqeA5zr</td>\n",
              "    </tr>\n",
              "    <tr>\n",
              "      <th>1237303</th>\n",
              "      <td>1237303</td>\n",
              "      <td>Hussain Aljassmi</td>\n",
              "      <td>17</td>\n",
              "      <td>27174</td>\n",
              "      <td>Bel Bont El3areedh</td>\n",
              "      <td>https://open.spotify.com/track/4ZU4yHDLZcMcy8B...</td>\n",
              "      <td>Egypt</td>\n",
              "      <td>2020-12-25--2021-01-01</td>\n",
              "      <td>1</td>\n",
              "      <td>4ZU4yHDLZcMcy8BF6Y89fu</td>\n",
              "    </tr>\n",
              "    <tr>\n",
              "      <th>922742</th>\n",
              "      <td>922742</td>\n",
              "      <td>Sebastian Yatra</td>\n",
              "      <td>181</td>\n",
              "      <td>452823</td>\n",
              "      <td>Por Perro</td>\n",
              "      <td>https://open.spotify.com/track/2alIsNw1mqEShbW...</td>\n",
              "      <td>Mexico</td>\n",
              "      <td>2019-05-24--2019-05-31</td>\n",
              "      <td>1</td>\n",
              "      <td>2alIsNw1mqEShbWyO1HXZZ</td>\n",
              "    </tr>\n",
              "    <tr>\n",
              "      <th>1437746</th>\n",
              "      <td>1437746</td>\n",
              "      <td>Luis Alberto Spinetta</td>\n",
              "      <td>91</td>\n",
              "      <td>305571</td>\n",
              "      <td>Seguir Viviendo Sin Tu Amor</td>\n",
              "      <td>https://open.spotify.com/track/2qBirMakpTdz9ym...</td>\n",
              "      <td>Argentina</td>\n",
              "      <td>2021-03-26--2021-04-02</td>\n",
              "      <td>0</td>\n",
              "      <td>2qBirMakpTdz9ymxrZEyzg</td>\n",
              "    </tr>\n",
              "  </tbody>\n",
              "</table>\n",
              "</div>"
            ],
            "text/plain": [
              "         Unnamed: 0                 Artist  ...  target                      id\n",
              "1670375     1670375          Abraham Mateo  ...       0  0KmeVVL1SHlPIiHWtOD34X\n",
              "1830643     1830643                 Flow G  ...       0  1x7DysraeqSgVgj95hHc3U\n",
              "1334891     1334891                 Angèle  ...       0  3U5x1rplpJNKR3Xg88EfLi\n",
              "798111       798111                  Ozuna  ...       0  67jvGGbJmOmVonlyX3mNkV\n",
              "1731106     1731106               DJ Snake  ...       0  4pdPtRcBmOSQDlJ3Fk945m\n",
              "785938       785938         Rauw Alejandro  ...       1  4ZRrLHqzhGRXYj2qcB4s5S\n",
              "530332       530332               Dua Lipa  ...       1  76cy1WJvNGJTj78UqeA5zr\n",
              "1237303     1237303       Hussain Aljassmi  ...       1  4ZU4yHDLZcMcy8BF6Y89fu\n",
              "922742       922742        Sebastian Yatra  ...       1  2alIsNw1mqEShbWyO1HXZZ\n",
              "1437746     1437746  Luis Alberto Spinetta  ...       0  2qBirMakpTdz9ymxrZEyzg\n",
              "\n",
              "[10 rows x 10 columns]"
            ]
          },
          "metadata": {
            "tags": []
          },
          "execution_count": 97
        }
      ]
    },
    {
      "cell_type": "code",
      "metadata": {
        "colab": {
          "base_uri": "https://localhost:8080/",
          "height": 204
        },
        "id": "nS3QBJDIxLbW",
        "outputId": "ba51dc1f-f4ee-49c6-8a01-a622a5bebb2a"
      },
      "source": [
        "## load songs data\n",
        "songsData = pd.read_csv('/content/gdrive/MyDrive/OpenUniversity/DS/finalDataset/uniquSongsData.csv')\n",
        "del songsData['track_href']\n",
        "del songsData['name']\n",
        "songsData.sample(5)\n"
      ],
      "execution_count": 98,
      "outputs": [
        {
          "output_type": "execute_result",
          "data": {
            "text/html": [
              "<div>\n",
              "<style scoped>\n",
              "    .dataframe tbody tr th:only-of-type {\n",
              "        vertical-align: middle;\n",
              "    }\n",
              "\n",
              "    .dataframe tbody tr th {\n",
              "        vertical-align: top;\n",
              "    }\n",
              "\n",
              "    .dataframe thead th {\n",
              "        text-align: right;\n",
              "    }\n",
              "</style>\n",
              "<table border=\"1\" class=\"dataframe\">\n",
              "  <thead>\n",
              "    <tr style=\"text-align: right;\">\n",
              "      <th></th>\n",
              "      <th>acousticness</th>\n",
              "      <th>danceability</th>\n",
              "      <th>duration_ms</th>\n",
              "      <th>energy</th>\n",
              "      <th>id</th>\n",
              "      <th>instrumentalness</th>\n",
              "      <th>key</th>\n",
              "      <th>liveness</th>\n",
              "      <th>loudness</th>\n",
              "      <th>mode</th>\n",
              "      <th>numeric_key</th>\n",
              "      <th>popularity</th>\n",
              "      <th>speechiness</th>\n",
              "      <th>tempo</th>\n",
              "      <th>time_signature</th>\n",
              "      <th>valence</th>\n",
              "    </tr>\n",
              "  </thead>\n",
              "  <tbody>\n",
              "    <tr>\n",
              "      <th>45751</th>\n",
              "      <td>0.200</td>\n",
              "      <td>0.429</td>\n",
              "      <td>179583.0</td>\n",
              "      <td>0.535</td>\n",
              "      <td>67QF5asz4N1rZT0T7U16JA</td>\n",
              "      <td>0.000000</td>\n",
              "      <td>G#</td>\n",
              "      <td>0.1440</td>\n",
              "      <td>-5.397</td>\n",
              "      <td>1.0</td>\n",
              "      <td>8.0</td>\n",
              "      <td>37.0</td>\n",
              "      <td>0.0464</td>\n",
              "      <td>142.807</td>\n",
              "      <td>3.0</td>\n",
              "      <td>0.432</td>\n",
              "    </tr>\n",
              "    <tr>\n",
              "      <th>37915</th>\n",
              "      <td>0.040</td>\n",
              "      <td>0.737</td>\n",
              "      <td>182923.0</td>\n",
              "      <td>0.816</td>\n",
              "      <td>7cYcaVZQodQ4gSOV43EkmE</td>\n",
              "      <td>0.000001</td>\n",
              "      <td>F</td>\n",
              "      <td>0.2200</td>\n",
              "      <td>-6.232</td>\n",
              "      <td>1.0</td>\n",
              "      <td>5.0</td>\n",
              "      <td>40.0</td>\n",
              "      <td>0.1240</td>\n",
              "      <td>94.460</td>\n",
              "      <td>4.0</td>\n",
              "      <td>0.768</td>\n",
              "    </tr>\n",
              "    <tr>\n",
              "      <th>11591</th>\n",
              "      <td>0.063</td>\n",
              "      <td>0.855</td>\n",
              "      <td>193027.0</td>\n",
              "      <td>0.651</td>\n",
              "      <td>5Z8HZM6iQMhhqyPcCGY5g9</td>\n",
              "      <td>0.000000</td>\n",
              "      <td>C</td>\n",
              "      <td>0.0772</td>\n",
              "      <td>-8.044</td>\n",
              "      <td>0.0</td>\n",
              "      <td>0.0</td>\n",
              "      <td>73.0</td>\n",
              "      <td>0.2350</td>\n",
              "      <td>111.997</td>\n",
              "      <td>4.0</td>\n",
              "      <td>0.559</td>\n",
              "    </tr>\n",
              "    <tr>\n",
              "      <th>16949</th>\n",
              "      <td>0.517</td>\n",
              "      <td>0.760</td>\n",
              "      <td>240065.0</td>\n",
              "      <td>0.691</td>\n",
              "      <td>2Ch60RcV8uYCxFWUC7D1SE</td>\n",
              "      <td>0.000000</td>\n",
              "      <td>D</td>\n",
              "      <td>0.1610</td>\n",
              "      <td>-8.586</td>\n",
              "      <td>1.0</td>\n",
              "      <td>2.0</td>\n",
              "      <td>5.0</td>\n",
              "      <td>0.0615</td>\n",
              "      <td>100.004</td>\n",
              "      <td>4.0</td>\n",
              "      <td>0.967</td>\n",
              "    </tr>\n",
              "    <tr>\n",
              "      <th>55210</th>\n",
              "      <td>0.373</td>\n",
              "      <td>0.518</td>\n",
              "      <td>168387.0</td>\n",
              "      <td>0.579</td>\n",
              "      <td>65UwFio0i2UgiqQioRt1Dp</td>\n",
              "      <td>0.130000</td>\n",
              "      <td>C#</td>\n",
              "      <td>0.2290</td>\n",
              "      <td>-10.383</td>\n",
              "      <td>1.0</td>\n",
              "      <td>1.0</td>\n",
              "      <td>21.0</td>\n",
              "      <td>0.0602</td>\n",
              "      <td>139.964</td>\n",
              "      <td>4.0</td>\n",
              "      <td>0.132</td>\n",
              "    </tr>\n",
              "  </tbody>\n",
              "</table>\n",
              "</div>"
            ],
            "text/plain": [
              "       acousticness  danceability  ...  time_signature  valence\n",
              "45751         0.200         0.429  ...             3.0    0.432\n",
              "37915         0.040         0.737  ...             4.0    0.768\n",
              "11591         0.063         0.855  ...             4.0    0.559\n",
              "16949         0.517         0.760  ...             4.0    0.967\n",
              "55210         0.373         0.518  ...             4.0    0.132\n",
              "\n",
              "[5 rows x 16 columns]"
            ]
          },
          "metadata": {
            "tags": []
          },
          "execution_count": 98
        }
      ]
    },
    {
      "cell_type": "code",
      "metadata": {
        "colab": {
          "base_uri": "https://localhost:8080/",
          "height": 496
        },
        "id": "-rp5YscayPzx",
        "outputId": "24b70083-5482-4be6-d668-a6bd7fddca53"
      },
      "source": [
        "## Get our full df\n",
        "prepared_df = pd.merge(charts_data_df.drop_duplicates(subset=['id'], keep='last'), songsData, on=['id'])\n",
        "del prepared_df['Unnamed: 0']\n",
        "prepared_df.sample(5)"
      ],
      "execution_count": 99,
      "outputs": [
        {
          "output_type": "execute_result",
          "data": {
            "text/html": [
              "<div>\n",
              "<style scoped>\n",
              "    .dataframe tbody tr th:only-of-type {\n",
              "        vertical-align: middle;\n",
              "    }\n",
              "\n",
              "    .dataframe tbody tr th {\n",
              "        vertical-align: top;\n",
              "    }\n",
              "\n",
              "    .dataframe thead th {\n",
              "        text-align: right;\n",
              "    }\n",
              "</style>\n",
              "<table border=\"1\" class=\"dataframe\">\n",
              "  <thead>\n",
              "    <tr style=\"text-align: right;\">\n",
              "      <th></th>\n",
              "      <th>Artist</th>\n",
              "      <th>Position</th>\n",
              "      <th>Streams</th>\n",
              "      <th>Track Name</th>\n",
              "      <th>URL</th>\n",
              "      <th>country</th>\n",
              "      <th>dates</th>\n",
              "      <th>target</th>\n",
              "      <th>id</th>\n",
              "      <th>acousticness</th>\n",
              "      <th>danceability</th>\n",
              "      <th>duration_ms</th>\n",
              "      <th>energy</th>\n",
              "      <th>instrumentalness</th>\n",
              "      <th>key</th>\n",
              "      <th>liveness</th>\n",
              "      <th>loudness</th>\n",
              "      <th>mode</th>\n",
              "      <th>numeric_key</th>\n",
              "      <th>popularity</th>\n",
              "      <th>speechiness</th>\n",
              "      <th>tempo</th>\n",
              "      <th>time_signature</th>\n",
              "      <th>valence</th>\n",
              "    </tr>\n",
              "  </thead>\n",
              "  <tbody>\n",
              "    <tr>\n",
              "      <th>23196</th>\n",
              "      <td>Sael</td>\n",
              "      <td>183</td>\n",
              "      <td>191240</td>\n",
              "      <td>Rompe el Party (Remix)</td>\n",
              "      <td>https://open.spotify.com/track/0bpzKlI1oiRYp9U...</td>\n",
              "      <td>Argentina</td>\n",
              "      <td>2019-10-11--2019-10-18</td>\n",
              "      <td>0</td>\n",
              "      <td>0bpzKlI1oiRYp9UnK90qcV</td>\n",
              "      <td>0.1350</td>\n",
              "      <td>0.769</td>\n",
              "      <td>207673.0</td>\n",
              "      <td>0.744</td>\n",
              "      <td>0.00000</td>\n",
              "      <td>A</td>\n",
              "      <td>0.0491</td>\n",
              "      <td>-4.453</td>\n",
              "      <td>0.0</td>\n",
              "      <td>9.0</td>\n",
              "      <td>46.0</td>\n",
              "      <td>0.2710</td>\n",
              "      <td>149.912</td>\n",
              "      <td>3.0</td>\n",
              "      <td>0.632</td>\n",
              "    </tr>\n",
              "    <tr>\n",
              "      <th>45473</th>\n",
              "      <td>Rema</td>\n",
              "      <td>149</td>\n",
              "      <td>4880</td>\n",
              "      <td>Dumebi</td>\n",
              "      <td>https://open.spotify.com/track/42s0RItv03UZZ1t...</td>\n",
              "      <td>Morocco</td>\n",
              "      <td>2019-08-30--2019-09-06</td>\n",
              "      <td>0</td>\n",
              "      <td>42s0RItv03UZZ1tYmQQuQT</td>\n",
              "      <td>0.1650</td>\n",
              "      <td>0.920</td>\n",
              "      <td>179383.0</td>\n",
              "      <td>0.642</td>\n",
              "      <td>0.00413</td>\n",
              "      <td>D#</td>\n",
              "      <td>0.1090</td>\n",
              "      <td>-5.780</td>\n",
              "      <td>0.0</td>\n",
              "      <td>3.0</td>\n",
              "      <td>0.0</td>\n",
              "      <td>0.0616</td>\n",
              "      <td>110.003</td>\n",
              "      <td>4.0</td>\n",
              "      <td>0.742</td>\n",
              "    </tr>\n",
              "    <tr>\n",
              "      <th>20669</th>\n",
              "      <td>DJ Cleo</td>\n",
              "      <td>174</td>\n",
              "      <td>19478</td>\n",
              "      <td>Gcina Impilo Yami</td>\n",
              "      <td>https://open.spotify.com/track/76yZgddXq3rF5C7...</td>\n",
              "      <td>South Africa</td>\n",
              "      <td>2021-04-23--2021-04-30</td>\n",
              "      <td>0</td>\n",
              "      <td>76yZgddXq3rF5C7wPuZ4OC</td>\n",
              "      <td>0.0224</td>\n",
              "      <td>0.780</td>\n",
              "      <td>323800.0</td>\n",
              "      <td>0.732</td>\n",
              "      <td>0.00688</td>\n",
              "      <td>F#</td>\n",
              "      <td>0.0391</td>\n",
              "      <td>-6.841</td>\n",
              "      <td>1.0</td>\n",
              "      <td>6.0</td>\n",
              "      <td>43.0</td>\n",
              "      <td>0.0596</td>\n",
              "      <td>112.982</td>\n",
              "      <td>4.0</td>\n",
              "      <td>0.880</td>\n",
              "    </tr>\n",
              "    <tr>\n",
              "      <th>38035</th>\n",
              "      <td>Alremmas</td>\n",
              "      <td>135</td>\n",
              "      <td>13290</td>\n",
              "      <td>Saif Nabeel Ya Rohiy</td>\n",
              "      <td>https://open.spotify.com/track/3RRStsQ6MoSLhY4...</td>\n",
              "      <td>Saudi Arabia</td>\n",
              "      <td>2020-07-31--2020-08-07</td>\n",
              "      <td>0</td>\n",
              "      <td>3RRStsQ6MoSLhY4excSXar</td>\n",
              "      <td>0.1560</td>\n",
              "      <td>0.699</td>\n",
              "      <td>206080.0</td>\n",
              "      <td>0.415</td>\n",
              "      <td>0.00000</td>\n",
              "      <td>F</td>\n",
              "      <td>0.0815</td>\n",
              "      <td>-10.701</td>\n",
              "      <td>0.0</td>\n",
              "      <td>5.0</td>\n",
              "      <td>0.0</td>\n",
              "      <td>0.0534</td>\n",
              "      <td>120.620</td>\n",
              "      <td>3.0</td>\n",
              "      <td>0.591</td>\n",
              "    </tr>\n",
              "    <tr>\n",
              "      <th>17408</th>\n",
              "      <td>D-Block Europe</td>\n",
              "      <td>179</td>\n",
              "      <td>396017</td>\n",
              "      <td>Keeper</td>\n",
              "      <td>https://open.spotify.com/track/5fLa9OF5eaUOWz8...</td>\n",
              "      <td>United Kingdom</td>\n",
              "      <td>2019-02-15--2019-02-22</td>\n",
              "      <td>0</td>\n",
              "      <td>5fLa9OF5eaUOWz81oDqhgg</td>\n",
              "      <td>0.2200</td>\n",
              "      <td>0.760</td>\n",
              "      <td>246713.0</td>\n",
              "      <td>0.535</td>\n",
              "      <td>0.00000</td>\n",
              "      <td>D#</td>\n",
              "      <td>0.0894</td>\n",
              "      <td>-9.634</td>\n",
              "      <td>0.0</td>\n",
              "      <td>3.0</td>\n",
              "      <td>52.0</td>\n",
              "      <td>0.2980</td>\n",
              "      <td>143.020</td>\n",
              "      <td>4.0</td>\n",
              "      <td>0.741</td>\n",
              "    </tr>\n",
              "  </tbody>\n",
              "</table>\n",
              "</div>"
            ],
            "text/plain": [
              "               Artist  Position  Streams  ...    tempo time_signature valence\n",
              "23196            Sael       183   191240  ...  149.912            3.0   0.632\n",
              "45473            Rema       149     4880  ...  110.003            4.0   0.742\n",
              "20669         DJ Cleo       174    19478  ...  112.982            4.0   0.880\n",
              "38035        Alremmas       135    13290  ...  120.620            3.0   0.591\n",
              "17408  D-Block Europe       179   396017  ...  143.020            4.0   0.741\n",
              "\n",
              "[5 rows x 24 columns]"
            ]
          },
          "metadata": {
            "tags": []
          },
          "execution_count": 99
        }
      ]
    },
    {
      "cell_type": "markdown",
      "metadata": {
        "id": "xO2kdAbKh9YM"
      },
      "source": [
        "### Some features comparison"
      ]
    },
    {
      "cell_type": "code",
      "metadata": {
        "id": "DYD2lX09i-BH",
        "outputId": "0b0ac069-ea48-4bfc-bfc3-ed5eead8b906",
        "colab": {
          "base_uri": "https://localhost:8080/",
          "height": 1000
        }
      },
      "source": [
        "## danceability\n",
        "hits_danceability_df = prepared_df[prepared_df['target'] == 1]['danceability']\n",
        "no_hits_danceability_df = prepared_df[prepared_df['target'] == 0]['danceability']\n",
        "\n",
        "fig = plt.figure(figsize=(15, 15))\n",
        "danceability = fig.add_subplot(221)\n",
        "danceability.set_xlabel('danceability')\n",
        "danceability.set_ylabel('count')\n",
        "danceability.set_title('dencability of a hit/not a hit song')\n",
        "no_hits_danceability_df.hist(alpha=0.7, bins = 20)\n",
        "fig.add_subplot(221)\n",
        "hits_danceability_df.hist(alpha=0.7, bins = 20, label = 'hit')\n",
        "\n",
        "## duration_ms\n",
        "\n",
        "hits_duration_ms_df = prepared_df[prepared_df['target'] == 1]['duration_ms']\n",
        "no_hits_duration_ms_df = prepared_df[prepared_df['target'] == 0]['duration_ms']\n",
        "\n",
        "duration_ms = fig.add_subplot(222)\n",
        "duration_ms.set_xlabel('duration_ms')\n",
        "duration_ms.set_ylabel('count')\n",
        "duration_ms.set_title('duration_ms of a hit/not a hit song')\n",
        "no_hits_duration_ms_df.hist(alpha=0.7, bins = 20)\n",
        "fig.add_subplot(222)\n",
        "hits_duration_ms_df.hist(alpha=0.7, bins = 20)\n",
        "\n",
        "## tempo\n",
        "hits_tempo_df = prepared_df[prepared_df['target'] == 1]['tempo']\n",
        "no_hits_tempo_df = prepared_df[prepared_df['target'] == 0]['tempo']\n",
        "\n",
        "tempo = fig.add_subplot(223)\n",
        "tempo.set_xlabel('tempo')\n",
        "tempo.set_ylabel('count')\n",
        "tempo.set_title('tempo of a hit/not a hit song')\n",
        "no_hits_tempo_df.hist(alpha=0.7, bins = 20)\n",
        "fig.add_subplot(223)\n",
        "hits_tempo_df.hist(alpha=0.7, bins = 20)\n",
        "\n",
        "## key\n",
        "hits_numeric_key_df = prepared_df[prepared_df['target'] == 1]['numeric_key']\n",
        "no_hits_numeric_key_df = prepared_df[prepared_df['target'] == 0]['numeric_key']\n",
        "\n",
        "numeric_key = fig.add_subplot(224)\n",
        "numeric_key.set_xlabel('numeric_key')\n",
        "numeric_key.set_ylabel('count')\n",
        "numeric_key.set_title('key of a hit/not a hit song')\n",
        "no_hits_numeric_key_df.hist(alpha=0.7, bins = 20)\n",
        "fig.add_subplot(224)\n",
        "hits_numeric_key_df.hist(alpha=0.7, bins = 20)\n"
      ],
      "execution_count": 116,
      "outputs": [
        {
          "output_type": "stream",
          "text": [
            "/usr/local/lib/python3.7/dist-packages/ipykernel_launcher.py:11: MatplotlibDeprecationWarning: Adding an axes using the same arguments as a previous axes currently reuses the earlier instance.  In a future version, a new instance will always be created and returned.  Meanwhile, this warning can be suppressed, and the future behavior ensured, by passing a unique label to each axes instance.\n",
            "  # This is added back by InteractiveShellApp.init_path()\n",
            "/usr/local/lib/python3.7/dist-packages/ipykernel_launcher.py:24: MatplotlibDeprecationWarning: Adding an axes using the same arguments as a previous axes currently reuses the earlier instance.  In a future version, a new instance will always be created and returned.  Meanwhile, this warning can be suppressed, and the future behavior ensured, by passing a unique label to each axes instance.\n",
            "/usr/local/lib/python3.7/dist-packages/ipykernel_launcher.py:36: MatplotlibDeprecationWarning: Adding an axes using the same arguments as a previous axes currently reuses the earlier instance.  In a future version, a new instance will always be created and returned.  Meanwhile, this warning can be suppressed, and the future behavior ensured, by passing a unique label to each axes instance.\n",
            "/usr/local/lib/python3.7/dist-packages/ipykernel_launcher.py:48: MatplotlibDeprecationWarning: Adding an axes using the same arguments as a previous axes currently reuses the earlier instance.  In a future version, a new instance will always be created and returned.  Meanwhile, this warning can be suppressed, and the future behavior ensured, by passing a unique label to each axes instance.\n"
          ],
          "name": "stderr"
        },
        {
          "output_type": "execute_result",
          "data": {
            "text/plain": [
              "<matplotlib.axes._subplots.AxesSubplot at 0x7f4d62a0aa90>"
            ]
          },
          "metadata": {
            "tags": []
          },
          "execution_count": 116
        },
        {
          "output_type": "display_data",
          "data": {
            "image/png": "[encoded data removed]",
            "text/plain": [
              "<Figure size 1080x1080 with 4 Axes>"
            ]
          },
          "metadata": {
            "tags": [],
            "needs_background": "light"
          }
        }
      ]
    },
    {
      "cell_type": "markdown",
      "metadata": {
        "id": "4dcGJKligGyI"
      },
      "source": [
        "### Preprocess"
      ]
    },
    {
      "cell_type": "code",
      "metadata": {
        "id": "gIB4YY-14zZP"
      },
      "source": [
        "def preprocess_inputs(df):\n",
        "    df = df.copy()\n",
        "    \n",
        "    # Drop high-cardinality categorical columns\n",
        "    df = df.drop(['Track Name', 'Artist', 'URL', 'dates', 'id', 'country', 'key'], axis=1)\n",
        "    \n",
        "    # Split df into X and y\n",
        "    y = df['target']\n",
        "    X = df.drop('target', axis=1)\n",
        "    \n",
        "    # Train-test split\n",
        "    X_train, X_test, y_train, y_test = train_test_split(X, y, train_size=0.2, shuffle=True, random_state=1)\n",
        "    \n",
        "    # Scale X\n",
        "    scaler = StandardScaler()\n",
        "    scaler.fit(X_train)\n",
        "    X_train = pd.DataFrame(scaler.transform(X_train), index=X_train.index, columns=X_train.columns)\n",
        "    X_test = pd.DataFrame(scaler.transform(X_test), index=X_test.index, columns=X_test.columns)\n",
        "    \n",
        "    return X_train, X_test, y_train, y_test"
      ],
      "execution_count": 83,
      "outputs": []
    },
    {
      "cell_type": "code",
      "metadata": {
        "id": "WkHTQrzp41Zp"
      },
      "source": [
        "X_train, X_test, y_train, y_test = preprocess_inputs(prepared_df)"
      ],
      "execution_count": 84,
      "outputs": []
    },
    {
      "cell_type": "markdown",
      "metadata": {
        "id": "C0t93wuVgT1b"
      },
      "source": [
        "### Train models"
      ]
    },
    {
      "cell_type": "code",
      "metadata": {
        "colab": {
          "base_uri": "https://localhost:8080/"
        },
        "id": "rjofTRpCgXDV",
        "outputId": "5c9b156b-0618-433c-9dd2-d3ded4ab294a"
      },
      "source": [
        "for name, model in models.items():\n",
        "    model.fit(X_train, y_train)\n",
        "    print(name + \" trained.\")"
      ],
      "execution_count": 92,
      "outputs": [
        {
          "output_type": "stream",
          "text": [
            "                   Logistic Regression trained.\n",
            "                   K-Nearest Neighbors trained.\n",
            "                         Decision Tree trained.\n",
            "   Support Vector Machine (RBF Kernel) trained.\n",
            "                         Random Forest trained.\n",
            "                     Gradient Boosting trained.\n"
          ],
          "name": "stdout"
        }
      ]
    },
    {
      "cell_type": "markdown",
      "metadata": {
        "id": "aeWL5Qj_gKRU"
      },
      "source": [
        "### Get models scores"
      ]
    },
    {
      "cell_type": "code",
      "metadata": {
        "colab": {
          "base_uri": "https://localhost:8080/"
        },
        "id": "vP1QrWTh66kd",
        "outputId": "7bcaa505-7623-4223-8e79-d3c9591e7a85"
      },
      "source": [
        "for name, model in models.items():\n",
        "    print(name + \": {:.2f}%\".format(model.score(X_test, y_test) * 100))\n"
      ],
      "execution_count": 93,
      "outputs": [
        {
          "output_type": "stream",
          "text": [
            "                   Logistic Regression: 90.16%\n",
            "                   K-Nearest Neighbors: 88.92%\n",
            "                         Decision Tree: 84.84%\n",
            "   Support Vector Machine (RBF Kernel): 89.48%\n",
            "                         Random Forest: 91.29%\n",
            "                     Gradient Boosting: 91.31%\n"
          ],
          "name": "stdout"
        }
      ]
    }
  ]
}