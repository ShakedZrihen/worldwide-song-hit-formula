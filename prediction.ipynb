{
  "nbformat": 4,
  "nbformat_minor": 0,
  "metadata": {
    "orig_nbformat": 4,
    "colab": {
      "name": "prediction.ipynb",
      "provenance": [],
      "include_colab_link": true
    },
    "language_info": {
      "name": "python"
    },
    "kernelspec": {
      "name": "python3",
      "display_name": "Python 3"
    }
  },
  "cells": [
    {
      "cell_type": "markdown",
      "metadata": {
        "id": "view-in-github",
        "colab_type": "text"
      },
      "source": [
        "<a href=\"https://colab.research.google.com/github/ShakedZrihen/worldwide-song-hit-formula/blob/predictions/prediction.ipynb\" target=\"_parent\"><img src=\"https://colab.research.google.com/assets/colab-badge.svg\" alt=\"Open In Colab\"/></a>"
      ]
    },
    {
      "cell_type": "markdown",
      "metadata": {
        "id": "i221Ekv1kNCH"
      },
      "source": [
        "# Predict if song can be a hit"
      ]
    },
    {
      "cell_type": "markdown",
      "metadata": {
        "id": "o1bAOG5uetlW"
      },
      "source": [
        "## Imports and mount dataset"
      ]
    },
    {
      "cell_type": "code",
      "metadata": {
        "id": "NXuXsoyWl9LY"
      },
      "source": [
        "## General\n",
        "from google.colab import drive\n",
        "import pandas as pd\n",
        "import numpy as np\n",
        "\n",
        "import matplotlib.pyplot as plt\n",
        "import seaborn as sns\n",
        "\n",
        "## ML Algorithms\n",
        "from sklearn.model_selection import train_test_split\n",
        "from sklearn.preprocessing import StandardScaler\n",
        "\n",
        "from sklearn.linear_model import LogisticRegression\n",
        "from sklearn.neighbors import KNeighborsClassifier\n",
        "from sklearn.tree import DecisionTreeClassifier\n",
        "from sklearn.svm import LinearSVC, SVC\n",
        "from sklearn.neural_network import MLPClassifier\n",
        "from sklearn.ensemble import RandomForestClassifier, GradientBoostingClassifier"
      ],
      "execution_count": 1,
      "outputs": []
    },
    {
      "cell_type": "code",
      "metadata": {
        "colab": {
          "base_uri": "https://localhost:8080/"
        },
        "id": "7MVIjCZamHvL",
        "outputId": "c5009f9a-cf4b-49b9-ae9d-65b55b077a4d"
      },
      "source": [
        "drive.mount(\"/content/gdrive\", force_remount=True)"
      ],
      "execution_count": 2,
      "outputs": [
        {
          "output_type": "stream",
          "text": [
            "Mounted at /content/gdrive\n"
          ],
          "name": "stdout"
        }
      ]
    },
    {
      "cell_type": "markdown",
      "metadata": {
        "id": "JNtMEajqmjdy"
      },
      "source": [
        "## Load data set"
      ]
    },
    {
      "cell_type": "code",
      "metadata": {
        "id": "p6ohu4M4mmRc"
      },
      "source": [
        "charts_data_df = pd.read_csv('/content/gdrive/MyDrive/OpenUniversity/DS/finalDataset/chartsData.csv')"
      ],
      "execution_count": 3,
      "outputs": []
    },
    {
      "cell_type": "code",
      "metadata": {
        "colab": {
          "base_uri": "https://localhost:8080/",
          "height": 359
        },
        "id": "j_lY3kGcm4KU",
        "outputId": "6d50f55a-40d2-4245-c13e-9819c806e86c"
      },
      "source": [
        "charts_data_df.head(10)"
      ],
      "execution_count": 4,
      "outputs": [
        {
          "output_type": "execute_result",
          "data": {
            "text/html": [
              "<div>\n",
              "<style scoped>\n",
              "    .dataframe tbody tr th:only-of-type {\n",
              "        vertical-align: middle;\n",
              "    }\n",
              "\n",
              "    .dataframe tbody tr th {\n",
              "        vertical-align: top;\n",
              "    }\n",
              "\n",
              "    .dataframe thead th {\n",
              "        text-align: right;\n",
              "    }\n",
              "</style>\n",
              "<table border=\"1\" class=\"dataframe\">\n",
              "  <thead>\n",
              "    <tr style=\"text-align: right;\">\n",
              "      <th></th>\n",
              "      <th>Unnamed: 0</th>\n",
              "      <th>Artist</th>\n",
              "      <th>Position</th>\n",
              "      <th>Streams</th>\n",
              "      <th>Track Name</th>\n",
              "      <th>URL</th>\n",
              "      <th>country</th>\n",
              "      <th>dates</th>\n",
              "    </tr>\n",
              "  </thead>\n",
              "  <tbody>\n",
              "    <tr>\n",
              "      <th>0</th>\n",
              "      <td>0</td>\n",
              "      <td>Red Velvet</td>\n",
              "      <td>1</td>\n",
              "      <td>205528</td>\n",
              "      <td>Psycho</td>\n",
              "      <td>https://open.spotify.com/track/3CYH422oy1cZNoo...</td>\n",
              "      <td>Viet Nam</td>\n",
              "      <td>2019-12-27--2020-01-03</td>\n",
              "    </tr>\n",
              "    <tr>\n",
              "      <th>1</th>\n",
              "      <td>1</td>\n",
              "      <td>Red Velvet</td>\n",
              "      <td>106</td>\n",
              "      <td>314994</td>\n",
              "      <td>Psycho</td>\n",
              "      <td>https://open.spotify.com/track/3CYH422oy1cZNoo...</td>\n",
              "      <td>Indonesia</td>\n",
              "      <td>2020-11-13--2020-11-20</td>\n",
              "    </tr>\n",
              "    <tr>\n",
              "      <th>2</th>\n",
              "      <td>2</td>\n",
              "      <td>Red Velvet</td>\n",
              "      <td>107</td>\n",
              "      <td>79162</td>\n",
              "      <td>Psycho</td>\n",
              "      <td>https://open.spotify.com/track/3CYH422oy1cZNoo...</td>\n",
              "      <td>Thailand</td>\n",
              "      <td>2020-11-20--2020-11-27</td>\n",
              "    </tr>\n",
              "    <tr>\n",
              "      <th>3</th>\n",
              "      <td>3</td>\n",
              "      <td>Red Velvet</td>\n",
              "      <td>82</td>\n",
              "      <td>64279</td>\n",
              "      <td>Psycho</td>\n",
              "      <td>https://open.spotify.com/track/3CYH422oy1cZNoo...</td>\n",
              "      <td>Singapore</td>\n",
              "      <td>2020-07-31--2020-08-07</td>\n",
              "    </tr>\n",
              "    <tr>\n",
              "      <th>4</th>\n",
              "      <td>4</td>\n",
              "      <td>Red Velvet</td>\n",
              "      <td>91</td>\n",
              "      <td>367569</td>\n",
              "      <td>Psycho</td>\n",
              "      <td>https://open.spotify.com/track/3CYH422oy1cZNoo...</td>\n",
              "      <td>Indonesia</td>\n",
              "      <td>2020-10-09--2020-10-16</td>\n",
              "    </tr>\n",
              "    <tr>\n",
              "      <th>5</th>\n",
              "      <td>5</td>\n",
              "      <td>Red Velvet</td>\n",
              "      <td>138</td>\n",
              "      <td>22725</td>\n",
              "      <td>Psycho</td>\n",
              "      <td>https://open.spotify.com/track/3CYH422oy1cZNoo...</td>\n",
              "      <td>Hong Kong</td>\n",
              "      <td>2020-07-10--2020-07-17</td>\n",
              "    </tr>\n",
              "    <tr>\n",
              "      <th>6</th>\n",
              "      <td>6</td>\n",
              "      <td>Red Velvet</td>\n",
              "      <td>131</td>\n",
              "      <td>102957</td>\n",
              "      <td>Psycho</td>\n",
              "      <td>https://open.spotify.com/track/3CYH422oy1cZNoo...</td>\n",
              "      <td>Japan</td>\n",
              "      <td>2019-12-27--2020-01-03</td>\n",
              "    </tr>\n",
              "    <tr>\n",
              "      <th>7</th>\n",
              "      <td>7</td>\n",
              "      <td>Red Velvet</td>\n",
              "      <td>125</td>\n",
              "      <td>6432</td>\n",
              "      <td>Psycho</td>\n",
              "      <td>https://open.spotify.com/track/3CYH422oy1cZNoo...</td>\n",
              "      <td>United Arab Emirates</td>\n",
              "      <td>2020-01-03--2020-01-10</td>\n",
              "    </tr>\n",
              "    <tr>\n",
              "      <th>8</th>\n",
              "      <td>8</td>\n",
              "      <td>Red Velvet</td>\n",
              "      <td>28</td>\n",
              "      <td>141716</td>\n",
              "      <td>Psycho</td>\n",
              "      <td>https://open.spotify.com/track/3CYH422oy1cZNoo...</td>\n",
              "      <td>Malaysia</td>\n",
              "      <td>2020-03-20--2020-03-27</td>\n",
              "    </tr>\n",
              "    <tr>\n",
              "      <th>9</th>\n",
              "      <td>9</td>\n",
              "      <td>Red Velvet</td>\n",
              "      <td>5</td>\n",
              "      <td>98150</td>\n",
              "      <td>Psycho</td>\n",
              "      <td>https://open.spotify.com/track/3CYH422oy1cZNoo...</td>\n",
              "      <td>Viet Nam</td>\n",
              "      <td>2020-01-31--2020-02-07</td>\n",
              "    </tr>\n",
              "  </tbody>\n",
              "</table>\n",
              "</div>"
            ],
            "text/plain": [
              "   Unnamed: 0      Artist  ...               country                   dates\n",
              "0           0  Red Velvet  ...              Viet Nam  2019-12-27--2020-01-03\n",
              "1           1  Red Velvet  ...             Indonesia  2020-11-13--2020-11-20\n",
              "2           2  Red Velvet  ...              Thailand  2020-11-20--2020-11-27\n",
              "3           3  Red Velvet  ...             Singapore  2020-07-31--2020-08-07\n",
              "4           4  Red Velvet  ...             Indonesia  2020-10-09--2020-10-16\n",
              "5           5  Red Velvet  ...             Hong Kong  2020-07-10--2020-07-17\n",
              "6           6  Red Velvet  ...                 Japan  2019-12-27--2020-01-03\n",
              "7           7  Red Velvet  ...  United Arab Emirates  2020-01-03--2020-01-10\n",
              "8           8  Red Velvet  ...              Malaysia  2020-03-20--2020-03-27\n",
              "9           9  Red Velvet  ...              Viet Nam  2020-01-31--2020-02-07\n",
              "\n",
              "[10 rows x 8 columns]"
            ]
          },
          "metadata": {
            "tags": []
          },
          "execution_count": 4
        }
      ]
    },
    {
      "cell_type": "markdown",
      "metadata": {
        "id": "UjNclbF5nMJX"
      },
      "source": [
        "## Get all top 10 songs"
      ]
    },
    {
      "cell_type": "code",
      "metadata": {
        "colab": {
          "base_uri": "https://localhost:8080/"
        },
        "id": "qhr699C7nQyA",
        "outputId": "eda7778c-753d-4b01-956f-0587f6b57130"
      },
      "source": [
        "top_10_songs_df = charts_data_df[charts_data_df.Position <= 10]\n",
        "print(f'Top 10 songs (with duplications): {len(top_10_songs_df)}')\n",
        "\n",
        "# Top 10 songs (without duplications)\n",
        "top_10_songs_uniqu_df = top_10_songs_df['URL'].unique()\n",
        "print(f'Top 10 songs (without duplications): {len(top_10_songs_uniqu_df)}')"
      ],
      "execution_count": 5,
      "outputs": [
        {
          "output_type": "stream",
          "text": [
            "Top 10 songs (with duplications): 107460\n",
            "Top 10 songs (without duplications): 6749\n"
          ],
          "name": "stdout"
        }
      ]
    },
    {
      "cell_type": "code",
      "metadata": {
        "colab": {
          "base_uri": "https://localhost:8080/"
        },
        "id": "p4o8I_W2qJkI",
        "outputId": "06896b97-8e54-4368-f225-c3f0d5fe6a95"
      },
      "source": [
        "# Get most popular songs in top 10 charts\n",
        "top_10_songs_dup_df = top_10_songs_df.pivot_table(columns=['Track Name', 'Artist'], aggfunc='size').sort_values(ascending=False)\n",
        "top_10_songs_dup_df.head(10)"
      ],
      "execution_count": 6,
      "outputs": [
        {
          "output_type": "execute_result",
          "data": {
            "text/plain": [
              "Track Name                                      Artist       \n",
              "Blinding Lights                                 The Weeknd       1558\n",
              "Dance Monkey                                    Tones And I      1409\n",
              "Señorita                                        Shawn Mendes     1007\n",
              "bad guy                                         Billie Eilish     833\n",
              "Roses - Imanbek Remix                           SAINt JHN         767\n",
              "Don't Start Now                                 Dua Lipa          635\n",
              "Without Me                                      Halsey            620\n",
              "Mood (feat. iann dior)                          24kGoldn          608\n",
              "ROCKSTAR (feat. Roddy Ricch)                    DaBaby            602\n",
              "Taki Taki (with Selena Gomez, Ozuna & Cardi B)  DJ Snake          599\n",
              "dtype: int64"
            ]
          },
          "metadata": {
            "tags": []
          },
          "execution_count": 6
        }
      ]
    },
    {
      "cell_type": "code",
      "metadata": {
        "colab": {
          "base_uri": "https://localhost:8080/"
        },
        "id": "tPz1rRyNqULA",
        "outputId": "200d4c68-334c-4c59-8d98-4096b5dd0186"
      },
      "source": [
        "# Get most popular artist\n",
        "top_10_songs_dup_df = top_10_songs_df.pivot_table(columns=['Artist'], aggfunc='size').sort_values(ascending=False)\n",
        "top_10_songs_dup_df.head(10)"
      ],
      "execution_count": 7,
      "outputs": [
        {
          "output_type": "execute_result",
          "data": {
            "text/plain": [
              "Artist\n",
              "Bad Bunny        3604\n",
              "Post Malone      2591\n",
              "Ariana Grande    2589\n",
              "The Weeknd       2217\n",
              "Billie Eilish    1941\n",
              "Drake            1767\n",
              "J Balvin         1484\n",
              "Anuel AA         1432\n",
              "Tones And I      1412\n",
              "Sech             1327\n",
              "dtype: int64"
            ]
          },
          "metadata": {
            "tags": []
          },
          "execution_count": 7
        }
      ]
    },
    {
      "cell_type": "markdown",
      "metadata": {
        "id": "MLkYDGRJqyTq"
      },
      "source": [
        "## Prepare our dataset for build our models"
      ]
    },
    {
      "cell_type": "markdown",
      "metadata": {
        "id": "IlkuVjQKfwos"
      },
      "source": [
        "### Descibe our models"
      ]
    },
    {
      "cell_type": "code",
      "metadata": {
        "id": "37KzdGLI6HTi"
      },
      "source": [
        "models = {\n",
        "    \"Logistic Regression\": LogisticRegression(),\n",
        "    \"K-Nearest Neighbors\": KNeighborsClassifier(),\n",
        "    \"Decision Tree\": DecisionTreeClassifier(),\n",
        "    \"Support Vector Machine (RBF Kernel)\": SVC(),\n",
        "    \"Random Forest\": RandomForestClassifier(),\n",
        "    \"Gradient Boosting\": GradientBoostingClassifier()\n",
        "}\n"
      ],
      "execution_count": 8,
      "outputs": []
    },
    {
      "cell_type": "markdown",
      "metadata": {
        "id": "8kUdUEfsgCy4"
      },
      "source": [
        "### Final data tunning"
      ]
    },
    {
      "cell_type": "code",
      "metadata": {
        "id": "-K1I72pJq1Wa"
      },
      "source": [
        "# Add target column\n",
        "set_unique = set(top_10_songs_uniqu_df)\n",
        "charts_data_df['target'] = charts_data_df.apply(lambda row: 1 if row.URL in set_unique else 0, axis=1)\n"
      ],
      "execution_count": 9,
      "outputs": []
    },
    {
      "cell_type": "code",
      "metadata": {
        "colab": {
          "base_uri": "https://localhost:8080/",
          "height": 359
        },
        "id": "3NmIJ103wzio",
        "outputId": "30fca290-ebf1-4738-dc86-f050cbc42fa1"
      },
      "source": [
        "charts_data_df['id'] = charts_data_df.apply(lambda row: row.URL.rsplit('/', 1)[-1], axis=1) \n",
        "charts_data_df.sample(10)"
      ],
      "execution_count": 10,
      "outputs": [
        {
          "output_type": "execute_result",
          "data": {
            "text/html": [
              "<div>\n",
              "<style scoped>\n",
              "    .dataframe tbody tr th:only-of-type {\n",
              "        vertical-align: middle;\n",
              "    }\n",
              "\n",
              "    .dataframe tbody tr th {\n",
              "        vertical-align: top;\n",
              "    }\n",
              "\n",
              "    .dataframe thead th {\n",
              "        text-align: right;\n",
              "    }\n",
              "</style>\n",
              "<table border=\"1\" class=\"dataframe\">\n",
              "  <thead>\n",
              "    <tr style=\"text-align: right;\">\n",
              "      <th></th>\n",
              "      <th>Unnamed: 0</th>\n",
              "      <th>Artist</th>\n",
              "      <th>Position</th>\n",
              "      <th>Streams</th>\n",
              "      <th>Track Name</th>\n",
              "      <th>URL</th>\n",
              "      <th>country</th>\n",
              "      <th>dates</th>\n",
              "      <th>target</th>\n",
              "      <th>id</th>\n",
              "    </tr>\n",
              "  </thead>\n",
              "  <tbody>\n",
              "    <tr>\n",
              "      <th>336384</th>\n",
              "      <td>336384</td>\n",
              "      <td>XXXTENTACION</td>\n",
              "      <td>145</td>\n",
              "      <td>420359</td>\n",
              "      <td>Jocelyn Flores</td>\n",
              "      <td>https://open.spotify.com/track/7m9OqQk4RVRkw9J...</td>\n",
              "      <td>United Kingdom</td>\n",
              "      <td>2020-02-07--2020-02-14</td>\n",
              "      <td>1</td>\n",
              "      <td>7m9OqQk4RVRkw9JJdeAw96</td>\n",
              "    </tr>\n",
              "    <tr>\n",
              "      <th>266148</th>\n",
              "      <td>266148</td>\n",
              "      <td>Travis Scott</td>\n",
              "      <td>122</td>\n",
              "      <td>52309</td>\n",
              "      <td>HIGHEST IN THE ROOM</td>\n",
              "      <td>https://open.spotify.com/track/3eekarcy7kvN4yt...</td>\n",
              "      <td>Malaysia</td>\n",
              "      <td>2020-01-24--2020-01-31</td>\n",
              "      <td>1</td>\n",
              "      <td>3eekarcy7kvN4yt5ZFzltW</td>\n",
              "    </tr>\n",
              "    <tr>\n",
              "      <th>1224324</th>\n",
              "      <td>1224324</td>\n",
              "      <td>CamelPhat</td>\n",
              "      <td>123</td>\n",
              "      <td>39331</td>\n",
              "      <td>Cola</td>\n",
              "      <td>https://open.spotify.com/track/1HrMWH5GUdK6Yi9...</td>\n",
              "      <td>Ireland</td>\n",
              "      <td>2018-07-27--2018-08-03</td>\n",
              "      <td>0</td>\n",
              "      <td>1HrMWH5GUdK6Yi94rbANJA</td>\n",
              "    </tr>\n",
              "    <tr>\n",
              "      <th>1979268</th>\n",
              "      <td>1979268</td>\n",
              "      <td>Itzo Hazarta</td>\n",
              "      <td>118</td>\n",
              "      <td>5044</td>\n",
              "      <td>Sarceto Na Hlebarkata</td>\n",
              "      <td>https://open.spotify.com/track/6hi2dKBqNA63Eod...</td>\n",
              "      <td>Bulgaria</td>\n",
              "      <td>2019-10-04--2019-10-11</td>\n",
              "      <td>1</td>\n",
              "      <td>6hi2dKBqNA63EodoW3mGMp</td>\n",
              "    </tr>\n",
              "    <tr>\n",
              "      <th>1652416</th>\n",
              "      <td>1652416</td>\n",
              "      <td>Bagossy Brothers Company</td>\n",
              "      <td>47</td>\n",
              "      <td>36669</td>\n",
              "      <td>Visszajövök</td>\n",
              "      <td>https://open.spotify.com/track/3UGHQNNcJNkowbi...</td>\n",
              "      <td>Hungary</td>\n",
              "      <td>2020-05-08--2020-05-15</td>\n",
              "      <td>0</td>\n",
              "      <td>3UGHQNNcJNkowbiI8Iahy0</td>\n",
              "    </tr>\n",
              "    <tr>\n",
              "      <th>645443</th>\n",
              "      <td>645443</td>\n",
              "      <td>BTS</td>\n",
              "      <td>101</td>\n",
              "      <td>263274</td>\n",
              "      <td>Dis-ease</td>\n",
              "      <td>https://open.spotify.com/track/54DmTIv86D3sYdi...</td>\n",
              "      <td>Turkey</td>\n",
              "      <td>2020-11-20--2020-11-27</td>\n",
              "      <td>1</td>\n",
              "      <td>54DmTIv86D3sYdiawjULQ0</td>\n",
              "    </tr>\n",
              "    <tr>\n",
              "      <th>545142</th>\n",
              "      <td>545142</td>\n",
              "      <td>BTS</td>\n",
              "      <td>58</td>\n",
              "      <td>28769</td>\n",
              "      <td>FAKE LOVE</td>\n",
              "      <td>https://open.spotify.com/track/3aW0ds4A4tSQDIp...</td>\n",
              "      <td>Hong Kong</td>\n",
              "      <td>2018-07-06--2018-07-13</td>\n",
              "      <td>1</td>\n",
              "      <td>3aW0ds4A4tSQDIp75FqWTo</td>\n",
              "    </tr>\n",
              "    <tr>\n",
              "      <th>849344</th>\n",
              "      <td>849344</td>\n",
              "      <td>Bobby Helms</td>\n",
              "      <td>12</td>\n",
              "      <td>93915</td>\n",
              "      <td>Jingle Bell Rock</td>\n",
              "      <td>https://open.spotify.com/track/7vQbuQcyTflfCIO...</td>\n",
              "      <td>Hong Kong</td>\n",
              "      <td>2020-12-18--2020-12-25</td>\n",
              "      <td>1</td>\n",
              "      <td>7vQbuQcyTflfCIOu3Uzzya</td>\n",
              "    </tr>\n",
              "    <tr>\n",
              "      <th>1104417</th>\n",
              "      <td>1104417</td>\n",
              "      <td>Ronghao Li</td>\n",
              "      <td>33</td>\n",
              "      <td>100581</td>\n",
              "      <td>年少有為</td>\n",
              "      <td>https://open.spotify.com/track/6XY80Ofqd8j0SGi...</td>\n",
              "      <td>Taiwan, Province of China</td>\n",
              "      <td>2019-08-16--2019-08-23</td>\n",
              "      <td>1</td>\n",
              "      <td>6XY80Ofqd8j0SGiEdRLwCp</td>\n",
              "    </tr>\n",
              "    <tr>\n",
              "      <th>2101799</th>\n",
              "      <td>2101799</td>\n",
              "      <td>Ninho</td>\n",
              "      <td>176</td>\n",
              "      <td>287197</td>\n",
              "      <td>Mac 11</td>\n",
              "      <td>https://open.spotify.com/track/15UV9ARr2bzPOEZ...</td>\n",
              "      <td>France</td>\n",
              "      <td>2020-11-20--2020-11-27</td>\n",
              "      <td>0</td>\n",
              "      <td>15UV9ARr2bzPOEZb2QbTae</td>\n",
              "    </tr>\n",
              "  </tbody>\n",
              "</table>\n",
              "</div>"
            ],
            "text/plain": [
              "         Unnamed: 0                    Artist  ...  target                      id\n",
              "336384       336384              XXXTENTACION  ...       1  7m9OqQk4RVRkw9JJdeAw96\n",
              "266148       266148              Travis Scott  ...       1  3eekarcy7kvN4yt5ZFzltW\n",
              "1224324     1224324                 CamelPhat  ...       0  1HrMWH5GUdK6Yi94rbANJA\n",
              "1979268     1979268              Itzo Hazarta  ...       1  6hi2dKBqNA63EodoW3mGMp\n",
              "1652416     1652416  Bagossy Brothers Company  ...       0  3UGHQNNcJNkowbiI8Iahy0\n",
              "645443       645443                       BTS  ...       1  54DmTIv86D3sYdiawjULQ0\n",
              "545142       545142                       BTS  ...       1  3aW0ds4A4tSQDIp75FqWTo\n",
              "849344       849344               Bobby Helms  ...       1  7vQbuQcyTflfCIOu3Uzzya\n",
              "1104417     1104417                Ronghao Li  ...       1  6XY80Ofqd8j0SGiEdRLwCp\n",
              "2101799     2101799                     Ninho  ...       0  15UV9ARr2bzPOEZb2QbTae\n",
              "\n",
              "[10 rows x 10 columns]"
            ]
          },
          "metadata": {
            "tags": []
          },
          "execution_count": 10
        }
      ]
    },
    {
      "cell_type": "code",
      "metadata": {
        "colab": {
          "base_uri": "https://localhost:8080/",
          "height": 204
        },
        "id": "nS3QBJDIxLbW",
        "outputId": "ee2cd67a-5c8f-4ec1-d0ad-ecec68a82586"
      },
      "source": [
        "## load songs data\n",
        "songsData = pd.read_csv('/content/gdrive/MyDrive/OpenUniversity/DS/finalDataset/uniquSongsData.csv')\n",
        "del songsData['track_href']\n",
        "del songsData['name']\n",
        "songsData.sample(5)\n"
      ],
      "execution_count": 11,
      "outputs": [
        {
          "output_type": "execute_result",
          "data": {
            "text/html": [
              "<div>\n",
              "<style scoped>\n",
              "    .dataframe tbody tr th:only-of-type {\n",
              "        vertical-align: middle;\n",
              "    }\n",
              "\n",
              "    .dataframe tbody tr th {\n",
              "        vertical-align: top;\n",
              "    }\n",
              "\n",
              "    .dataframe thead th {\n",
              "        text-align: right;\n",
              "    }\n",
              "</style>\n",
              "<table border=\"1\" class=\"dataframe\">\n",
              "  <thead>\n",
              "    <tr style=\"text-align: right;\">\n",
              "      <th></th>\n",
              "      <th>acousticness</th>\n",
              "      <th>danceability</th>\n",
              "      <th>duration_ms</th>\n",
              "      <th>energy</th>\n",
              "      <th>id</th>\n",
              "      <th>instrumentalness</th>\n",
              "      <th>key</th>\n",
              "      <th>liveness</th>\n",
              "      <th>loudness</th>\n",
              "      <th>mode</th>\n",
              "      <th>numeric_key</th>\n",
              "      <th>popularity</th>\n",
              "      <th>speechiness</th>\n",
              "      <th>tempo</th>\n",
              "      <th>time_signature</th>\n",
              "      <th>valence</th>\n",
              "    </tr>\n",
              "  </thead>\n",
              "  <tbody>\n",
              "    <tr>\n",
              "      <th>8312</th>\n",
              "      <td>0.79200</td>\n",
              "      <td>0.599</td>\n",
              "      <td>150067.0</td>\n",
              "      <td>0.462</td>\n",
              "      <td>0PoPFCqGko4AL75oEvsnyc</td>\n",
              "      <td>0.000006</td>\n",
              "      <td>F</td>\n",
              "      <td>0.252</td>\n",
              "      <td>-9.504</td>\n",
              "      <td>0.0</td>\n",
              "      <td>5.0</td>\n",
              "      <td>0.0</td>\n",
              "      <td>0.3640</td>\n",
              "      <td>179.910</td>\n",
              "      <td>4.0</td>\n",
              "      <td>0.456</td>\n",
              "    </tr>\n",
              "    <tr>\n",
              "      <th>36101</th>\n",
              "      <td>0.72700</td>\n",
              "      <td>0.340</td>\n",
              "      <td>180947.0</td>\n",
              "      <td>0.472</td>\n",
              "      <td>6XgeZZ2jzDcUyq1Y0BqPKF</td>\n",
              "      <td>0.000000</td>\n",
              "      <td>G</td>\n",
              "      <td>0.761</td>\n",
              "      <td>-8.312</td>\n",
              "      <td>1.0</td>\n",
              "      <td>7.0</td>\n",
              "      <td>7.0</td>\n",
              "      <td>0.0609</td>\n",
              "      <td>180.000</td>\n",
              "      <td>3.0</td>\n",
              "      <td>0.571</td>\n",
              "    </tr>\n",
              "    <tr>\n",
              "      <th>19382</th>\n",
              "      <td>0.95800</td>\n",
              "      <td>0.275</td>\n",
              "      <td>146730.0</td>\n",
              "      <td>0.237</td>\n",
              "      <td>2uNIYdShR5ElJ3wXcq9XgZ</td>\n",
              "      <td>0.870000</td>\n",
              "      <td>A</td>\n",
              "      <td>0.107</td>\n",
              "      <td>-23.585</td>\n",
              "      <td>1.0</td>\n",
              "      <td>9.0</td>\n",
              "      <td>0.0</td>\n",
              "      <td>0.0491</td>\n",
              "      <td>141.209</td>\n",
              "      <td>3.0</td>\n",
              "      <td>0.616</td>\n",
              "    </tr>\n",
              "    <tr>\n",
              "      <th>45403</th>\n",
              "      <td>0.59300</td>\n",
              "      <td>0.697</td>\n",
              "      <td>142500.0</td>\n",
              "      <td>0.492</td>\n",
              "      <td>5a5Hm2dbriyUhtITZsMT2E</td>\n",
              "      <td>0.843000</td>\n",
              "      <td>C#</td>\n",
              "      <td>0.146</td>\n",
              "      <td>-7.956</td>\n",
              "      <td>0.0</td>\n",
              "      <td>1.0</td>\n",
              "      <td>22.0</td>\n",
              "      <td>0.0722</td>\n",
              "      <td>160.069</td>\n",
              "      <td>4.0</td>\n",
              "      <td>0.456</td>\n",
              "    </tr>\n",
              "    <tr>\n",
              "      <th>55443</th>\n",
              "      <td>0.00611</td>\n",
              "      <td>0.609</td>\n",
              "      <td>210817.0</td>\n",
              "      <td>0.547</td>\n",
              "      <td>3uGC6kXrzDmbKlfMhI5Flz</td>\n",
              "      <td>0.000000</td>\n",
              "      <td>C#</td>\n",
              "      <td>0.236</td>\n",
              "      <td>-7.282</td>\n",
              "      <td>1.0</td>\n",
              "      <td>1.0</td>\n",
              "      <td>29.0</td>\n",
              "      <td>0.0646</td>\n",
              "      <td>159.736</td>\n",
              "      <td>4.0</td>\n",
              "      <td>0.151</td>\n",
              "    </tr>\n",
              "  </tbody>\n",
              "</table>\n",
              "</div>"
            ],
            "text/plain": [
              "       acousticness  danceability  ...  time_signature  valence\n",
              "8312        0.79200         0.599  ...             4.0    0.456\n",
              "36101       0.72700         0.340  ...             3.0    0.571\n",
              "19382       0.95800         0.275  ...             3.0    0.616\n",
              "45403       0.59300         0.697  ...             4.0    0.456\n",
              "55443       0.00611         0.609  ...             4.0    0.151\n",
              "\n",
              "[5 rows x 16 columns]"
            ]
          },
          "metadata": {
            "tags": []
          },
          "execution_count": 11
        }
      ]
    },
    {
      "cell_type": "code",
      "metadata": {
        "colab": {
          "base_uri": "https://localhost:8080/",
          "height": 496
        },
        "id": "-rp5YscayPzx",
        "outputId": "dba1483d-1fcd-40cd-b5c4-245da4bb27a1"
      },
      "source": [
        "## Get our full df\n",
        "prepared_df = pd.merge(charts_data_df.drop_duplicates(subset=['id'], keep='last'), songsData, on=['id'])\n",
        "del prepared_df['Unnamed: 0']\n",
        "prepared_df.sample(5)"
      ],
      "execution_count": 12,
      "outputs": [
        {
          "output_type": "execute_result",
          "data": {
            "text/html": [
              "<div>\n",
              "<style scoped>\n",
              "    .dataframe tbody tr th:only-of-type {\n",
              "        vertical-align: middle;\n",
              "    }\n",
              "\n",
              "    .dataframe tbody tr th {\n",
              "        vertical-align: top;\n",
              "    }\n",
              "\n",
              "    .dataframe thead th {\n",
              "        text-align: right;\n",
              "    }\n",
              "</style>\n",
              "<table border=\"1\" class=\"dataframe\">\n",
              "  <thead>\n",
              "    <tr style=\"text-align: right;\">\n",
              "      <th></th>\n",
              "      <th>Artist</th>\n",
              "      <th>Position</th>\n",
              "      <th>Streams</th>\n",
              "      <th>Track Name</th>\n",
              "      <th>URL</th>\n",
              "      <th>country</th>\n",
              "      <th>dates</th>\n",
              "      <th>target</th>\n",
              "      <th>id</th>\n",
              "      <th>acousticness</th>\n",
              "      <th>danceability</th>\n",
              "      <th>duration_ms</th>\n",
              "      <th>energy</th>\n",
              "      <th>instrumentalness</th>\n",
              "      <th>key</th>\n",
              "      <th>liveness</th>\n",
              "      <th>loudness</th>\n",
              "      <th>mode</th>\n",
              "      <th>numeric_key</th>\n",
              "      <th>popularity</th>\n",
              "      <th>speechiness</th>\n",
              "      <th>tempo</th>\n",
              "      <th>time_signature</th>\n",
              "      <th>valence</th>\n",
              "    </tr>\n",
              "  </thead>\n",
              "  <tbody>\n",
              "    <tr>\n",
              "      <th>27239</th>\n",
              "      <td>Artigeardit</td>\n",
              "      <td>133</td>\n",
              "      <td>71138</td>\n",
              "      <td>Joggingsæt</td>\n",
              "      <td>https://open.spotify.com/track/6BwEVjXikIn5Htj...</td>\n",
              "      <td>Denmark</td>\n",
              "      <td>2019-04-19--2019-04-26</td>\n",
              "      <td>0</td>\n",
              "      <td>6BwEVjXikIn5HtjcZ3Vmdr</td>\n",
              "      <td>0.120</td>\n",
              "      <td>0.765</td>\n",
              "      <td>167721.0</td>\n",
              "      <td>0.687</td>\n",
              "      <td>0.000006</td>\n",
              "      <td>A#</td>\n",
              "      <td>0.0796</td>\n",
              "      <td>-6.306</td>\n",
              "      <td>0.0</td>\n",
              "      <td>10.0</td>\n",
              "      <td>45.0</td>\n",
              "      <td>0.1910</td>\n",
              "      <td>83.011</td>\n",
              "      <td>4.0</td>\n",
              "      <td>0.485</td>\n",
              "    </tr>\n",
              "    <tr>\n",
              "      <th>42233</th>\n",
              "      <td>Anne</td>\n",
              "      <td>178</td>\n",
              "      <td>652134</td>\n",
              "      <td>Are baba</td>\n",
              "      <td>https://open.spotify.com/track/1IfEBUFHQbv2E1W...</td>\n",
              "      <td>Brazil</td>\n",
              "      <td>2020-01-17--2020-01-24</td>\n",
              "      <td>0</td>\n",
              "      <td>1IfEBUFHQbv2E1W0867av9</td>\n",
              "      <td>0.606</td>\n",
              "      <td>0.810</td>\n",
              "      <td>200026.0</td>\n",
              "      <td>0.785</td>\n",
              "      <td>0.000002</td>\n",
              "      <td>C#</td>\n",
              "      <td>0.1590</td>\n",
              "      <td>-0.963</td>\n",
              "      <td>1.0</td>\n",
              "      <td>1.0</td>\n",
              "      <td>3.0</td>\n",
              "      <td>0.0556</td>\n",
              "      <td>149.944</td>\n",
              "      <td>4.0</td>\n",
              "      <td>0.913</td>\n",
              "    </tr>\n",
              "    <tr>\n",
              "      <th>51706</th>\n",
              "      <td>Bano</td>\n",
              "      <td>159</td>\n",
              "      <td>160255</td>\n",
              "      <td>Wip Wap (Produced by Djamaya)</td>\n",
              "      <td>https://open.spotify.com/track/68pRdvz386EQjif...</td>\n",
              "      <td>Netherlands</td>\n",
              "      <td>2018-07-27--2018-08-03</td>\n",
              "      <td>0</td>\n",
              "      <td>68pRdvz386EQjifxMW6igs</td>\n",
              "      <td>0.146</td>\n",
              "      <td>0.851</td>\n",
              "      <td>182400.0</td>\n",
              "      <td>0.595</td>\n",
              "      <td>0.000762</td>\n",
              "      <td>A</td>\n",
              "      <td>0.1360</td>\n",
              "      <td>-5.273</td>\n",
              "      <td>0.0</td>\n",
              "      <td>9.0</td>\n",
              "      <td>8.0</td>\n",
              "      <td>0.2920</td>\n",
              "      <td>100.070</td>\n",
              "      <td>4.0</td>\n",
              "      <td>0.692</td>\n",
              "    </tr>\n",
              "    <tr>\n",
              "      <th>7148</th>\n",
              "      <td>Morat</td>\n",
              "      <td>151</td>\n",
              "      <td>25703</td>\n",
              "      <td>Enamórate De Alguien Más</td>\n",
              "      <td>https://open.spotify.com/track/1fXKStjVOTmBEwj...</td>\n",
              "      <td>Guatemala</td>\n",
              "      <td>2019-12-20--2019-12-27</td>\n",
              "      <td>0</td>\n",
              "      <td>1fXKStjVOTmBEwjAnFSNkc</td>\n",
              "      <td>0.466</td>\n",
              "      <td>0.592</td>\n",
              "      <td>229107.0</td>\n",
              "      <td>0.643</td>\n",
              "      <td>0.000000</td>\n",
              "      <td>B</td>\n",
              "      <td>0.3150</td>\n",
              "      <td>-5.608</td>\n",
              "      <td>1.0</td>\n",
              "      <td>11.0</td>\n",
              "      <td>67.0</td>\n",
              "      <td>0.0321</td>\n",
              "      <td>145.979</td>\n",
              "      <td>4.0</td>\n",
              "      <td>0.579</td>\n",
              "    </tr>\n",
              "    <tr>\n",
              "      <th>26612</th>\n",
              "      <td>Felipe Araújo</td>\n",
              "      <td>124</td>\n",
              "      <td>804074</td>\n",
              "      <td>Reincidente</td>\n",
              "      <td>https://open.spotify.com/track/3XG1frltSxibGuY...</td>\n",
              "      <td>Brazil</td>\n",
              "      <td>2020-10-30--2020-11-06</td>\n",
              "      <td>0</td>\n",
              "      <td>3XG1frltSxibGuYLPucxl8</td>\n",
              "      <td>0.559</td>\n",
              "      <td>0.716</td>\n",
              "      <td>177692.0</td>\n",
              "      <td>0.715</td>\n",
              "      <td>0.000000</td>\n",
              "      <td>C#</td>\n",
              "      <td>0.1120</td>\n",
              "      <td>-4.775</td>\n",
              "      <td>1.0</td>\n",
              "      <td>1.0</td>\n",
              "      <td>57.0</td>\n",
              "      <td>0.0422</td>\n",
              "      <td>137.012</td>\n",
              "      <td>4.0</td>\n",
              "      <td>0.632</td>\n",
              "    </tr>\n",
              "  </tbody>\n",
              "</table>\n",
              "</div>"
            ],
            "text/plain": [
              "              Artist  Position  Streams  ...    tempo time_signature valence\n",
              "27239    Artigeardit       133    71138  ...   83.011            4.0   0.485\n",
              "42233           Anne       178   652134  ...  149.944            4.0   0.913\n",
              "51706           Bano       159   160255  ...  100.070            4.0   0.692\n",
              "7148           Morat       151    25703  ...  145.979            4.0   0.579\n",
              "26612  Felipe Araújo       124   804074  ...  137.012            4.0   0.632\n",
              "\n",
              "[5 rows x 24 columns]"
            ]
          },
          "metadata": {
            "tags": []
          },
          "execution_count": 12
        }
      ]
    },
    {
      "cell_type": "markdown",
      "metadata": {
        "id": "xO2kdAbKh9YM"
      },
      "source": [
        "### Some features comparison"
      ]
    },
    {
      "cell_type": "code",
      "metadata": {
        "colab": {
          "base_uri": "https://localhost:8080/",
          "height": 1000
        },
        "id": "DYD2lX09i-BH",
        "outputId": "5690ef33-9a8b-4566-f490-0b592523b849"
      },
      "source": [
        "hits_df = prepared_df[prepared_df['target'] == 1]\n",
        "no_hits_df = prepared_df[prepared_df['target'] == 0]\n",
        "\n",
        "features = songsData.drop(['id', 'key'], axis=1).columns\n",
        "fig = plt.figure(figsize=(20, 25))\n",
        "for index, feature in enumerate(features):\n",
        "  hits_feature_df = hits_df[feature]\n",
        "  no_hits_feature_df = no_hits_df[feature]\n",
        "  a_feature = fig.add_subplot(5,3,index+1)\n",
        "  a_feature.set_xlabel(feature)\n",
        "  a_feature.set_ylabel('count')\n",
        "  a_feature.set_title('{feature} of a hit/not a hit song'.format(feature=feature))\n",
        "  no_hits_feature_df.hist(alpha=0.7, bins = 20, density=True, color = \"orange\")\n",
        "  fig.add_subplot(5,3,index+1)\n",
        "  hits_feature_df.hist(alpha=0.7, bins = 20, label = 'hit', density=True, color = \"green\")\n",
        "\n"
      ],
      "execution_count": 40,
      "outputs": [
        {
          "output_type": "stream",
          "text": [
            "/usr/local/lib/python3.7/dist-packages/ipykernel_launcher.py:14: MatplotlibDeprecationWarning: Adding an axes using the same arguments as a previous axes currently reuses the earlier instance.  In a future version, a new instance will always be created and returned.  Meanwhile, this warning can be suppressed, and the future behavior ensured, by passing a unique label to each axes instance.\n",
            "  \n"
          ],
          "name": "stderr"
        },
        {
          "output_type": "display_data",
          "data": {
            "image/png": "[encoded data removed]",
            "text/plain": [
              "<Figure size 1440x1800 with 14 Axes>"
            ]
          },
          "metadata": {
            "tags": [],
            "needs_background": "light"
          }
        }
      ]
    },
    {
      "cell_type": "markdown",
      "metadata": {
        "id": "4dcGJKligGyI"
      },
      "source": [
        "### Preprocess"
      ]
    },
    {
      "cell_type": "code",
      "metadata": {
        "id": "gIB4YY-14zZP"
      },
      "source": [
        "def preprocess_inputs(df):\n",
        "    df = df.copy()\n",
        "    \n",
        "    # Drop high-cardinality categorical columns\n",
        "    df = df.drop(['Track Name', 'Artist', 'URL', 'dates', 'id', 'country', 'key'], axis=1)\n",
        "    \n",
        "    # Split df into X and y\n",
        "    y = df['target']\n",
        "    X = df.drop('target', axis=1)\n",
        "    \n",
        "    # Train-test split\n",
        "    X_train, X_test, y_train, y_test = train_test_split(X, y, train_size=0.2, shuffle=True, random_state=1)\n",
        "    \n",
        "    # Scale X\n",
        "    scaler = StandardScaler()\n",
        "    scaler.fit(X_train)\n",
        "    X_train = pd.DataFrame(scaler.transform(X_train), index=X_train.index, columns=X_train.columns)\n",
        "    X_test = pd.DataFrame(scaler.transform(X_test), index=X_test.index, columns=X_test.columns)\n",
        "    \n",
        "    return X_train, X_test, y_train, y_test"
      ],
      "execution_count": 41,
      "outputs": []
    },
    {
      "cell_type": "code",
      "metadata": {
        "id": "WkHTQrzp41Zp"
      },
      "source": [
        "X_train, X_test, y_train, y_test = preprocess_inputs(prepared_df)"
      ],
      "execution_count": 42,
      "outputs": []
    },
    {
      "cell_type": "markdown",
      "metadata": {
        "id": "C0t93wuVgT1b"
      },
      "source": [
        "### Train models"
      ]
    },
    {
      "cell_type": "code",
      "metadata": {
        "colab": {
          "base_uri": "https://localhost:8080/"
        },
        "id": "rjofTRpCgXDV",
        "outputId": "78c7284c-f6c7-4ea0-e962-67ba5f5e04fe"
      },
      "source": [
        "for name, model in models.items():\n",
        "    model.fit(X_train, y_train)\n",
        "    print(name + \" trained.\")"
      ],
      "execution_count": 43,
      "outputs": [
        {
          "output_type": "stream",
          "text": [
            "Logistic Regression trained.\n",
            "K-Nearest Neighbors trained.\n",
            "Decision Tree trained.\n",
            "Support Vector Machine (RBF Kernel) trained.\n",
            "Random Forest trained.\n",
            "Gradient Boosting trained.\n"
          ],
          "name": "stdout"
        }
      ]
    },
    {
      "cell_type": "markdown",
      "metadata": {
        "id": "aeWL5Qj_gKRU"
      },
      "source": [
        "### Get models scores"
      ]
    },
    {
      "cell_type": "code",
      "metadata": {
        "colab": {
          "base_uri": "https://localhost:8080/"
        },
        "id": "vP1QrWTh66kd",
        "outputId": "f9379930-6c6a-43a2-cc6f-5c62edcef615"
      },
      "source": [
        "for name, model in models.items():\n",
        "    print(name + \": {:.2f}%\".format(model.score(X_test, y_test) * 100))\n"
      ],
      "execution_count": 44,
      "outputs": [
        {
          "output_type": "stream",
          "text": [
            "Logistic Regression: 90.16%\n",
            "K-Nearest Neighbors: 88.92%\n",
            "Decision Tree: 84.85%\n",
            "Support Vector Machine (RBF Kernel): 89.48%\n",
            "Random Forest: 91.30%\n",
            "Gradient Boosting: 91.31%\n"
          ],
          "name": "stdout"
        }
      ]
    }
  ]
}